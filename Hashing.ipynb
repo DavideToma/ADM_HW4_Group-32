{
 "cells": [
  {
   "cell_type": "code",
   "execution_count": null,
   "metadata": {},
   "outputs": [],
   "source": [
    "import math\n",
    "from collections import Counter\n",
    "def Convert_to_LargeNumber(asci):\n",
    "        R = 265\n",
    "        prod = 1\n",
    "        for  e in asci:\n",
    "                prod*=(R+2*e)\n",
    "        return(prod//2) \n",
    "\n",
    "    \n",
    "def HashFun(k):\n",
    "     #A = (math.sqrt(5)-1)/2\n",
    "        \n",
    "    #use Bash command to get the number of passwords in the file using \"wc -l password2.txt\" and they are 110000000\n",
    "    m = 3*110000000 # we create 3X slots for the \n",
    "    w = 2** 180 #\n",
    "    A = 2654435769 / w \n",
    "    return(math.floor(m*(k*A - int(k*A)))) # As stated in the book we use floor(m(kAmod1))\n",
    "\n",
    "passwords = open('passwords2.txt','r')\n",
    "row = 1\n",
    "f = open('HashValue.txt','w+')\n",
    "#Recommend to use the if condition in the for loop for testing\n",
    "for p in passwords:\n",
    "    #if(row==10): #100000000 we generated a data for this row\n",
    "     #   break\n",
    "    list = [ord(char) for char in p.strip()]\n",
    "    #print(\"Key------: \" + p.strip() + \"  LargeNumber-----: \" + str(Convert_to_LargeNumber(list)) + \" HashValue--: \" + str(HashFun(Convert_to_LargeNumber(list))))\n",
    "    \n",
    "    #If We want to only store the hash value into a file we remove the p.stripe() and str(Convert_to_LargeNumber(list))\n",
    "    #f.write(p.strip()+\" \"+str(Convert_to_LargeNumber(list))+\" \"+str(HashFun(Convert_to_LargeNumber(list)))+\"\\n\")\n",
    "    #hashvalue.append(HashFun(Convert_to_LargeNumber(list)))\n",
    "    #row+=1\n",
    "    f.write(str(HashFun(Convert_to_LargeNumber(list)))+\"\\n\")\n",
    "\n",
    "passwords.close()\n",
    "f.close()"
   ]
  },
  {
   "cell_type": "markdown",
   "metadata": {},
   "source": [
    "## AABA != \"AAAB"
   ]
  },
  {
   "cell_type": "code",
   "execution_count": null,
   "metadata": {},
   "outputs": [],
   "source": [
    "import math\n",
    "from collections import Counter\n",
    "def Convert_to_LargeNumber(ascii):\n",
    "        R = 265\n",
    "        a = []\n",
    "        for  e in ascii:\n",
    "                a.append(e)\n",
    "        return (''.join(map(str,a))) # The two strings are indentical if their ascii are the same sequencially if not they are different\n",
    "\n",
    "    \n",
    "def HashFun(k):\n",
    "     #A = (math.sqrt(5)-1)/2\n",
    "        \n",
    "    #use Bash command to get the number of passwords in the file using \"wc -l password2.txt\" and they are 110000000\n",
    "    m = 3*110000000 # we create 3X slots for the \n",
    "    w = 2** 180 #\n",
    "    A = 2654435769 / w \n",
    "    return(math.floor(m*(k*A - int(k*A)))) # As stated in the book we use floor(m(kAmod1))\n",
    "\n",
    "passwords = open('passwords2.txt','r')\n",
    "#row = 1\n",
    "f = open('HashValue1.txt','w+')\n",
    "#Recommend to use the if condition in the for loop for testing\n",
    "for p in passwords:\n",
    "    #if(row==10): #100000000 we generated a data for this row\n",
    "     #   break\n",
    "    list = [ord(char) for char in p.strip()]\n",
    "    #print(\"Key------: \" + p.strip() + \"  LargeNumber-----: \" + str(Convert_to_LargeNumber(list)))# + \" HashValue--: \" + str(HashFun(Convert_to_LargeNumber(list))))\n",
    "    #If We want to only store the hash value into a file we remove the p.stripe() and str(Convert_to_LargeNumber(list))\n",
    "    #f.write(p.strip()+\" \"+str(Convert_to_LargeNumber(list))+\" \"+str(HashFun(Convert_to_LargeNumber(list)))+\"\\n\")\n",
    "    #hashvalue.append(HashFun(Convert_to_LargeNumber(list)))\n",
    "    #row+=1\n",
    "    f.write(str(HashFun(int(Convert_to_LargeNumber(list))))+\"\\n\")\n",
    "\n",
    "passwords.close()\n",
    "f.close()"
   ]
  },
  {
   "cell_type": "code",
   "execution_count": null,
   "metadata": {},
   "outputs": [],
   "source": []
  }
 ],
 "metadata": {
  "kernelspec": {
   "display_name": "Python 3",
   "language": "python",
   "name": "python3"
  },
  "language_info": {
   "codemirror_mode": {
    "name": "ipython",
    "version": 3
   },
   "file_extension": ".py",
   "mimetype": "text/x-python",
   "name": "python",
   "nbconvert_exporter": "python",
   "pygments_lexer": "ipython3",
   "version": "3.6.5"
  }
 },
 "nbformat": 4,
 "nbformat_minor": 2
}
