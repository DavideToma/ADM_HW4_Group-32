{
 "cells": [
  {
   "cell_type": "code",
   "execution_count": 2,
   "metadata": {},
   "outputs": [],
   "source": [
    "import math\n",
    "from collections import Counter"
   ]
  },
  {
   "cell_type": "code",
   "execution_count": 2,
   "metadata": {},
   "outputs": [],
   "source": [
    "def Convert_to_LargeNumber1(asci):\n",
    "        R = 2675\n",
    "        prod = 1\n",
    "        for  e in asci:\n",
    "                prod*=(R+2*e)\n",
    "        return(prod//2)"
   ]
  },
  {
   "cell_type": "code",
   "execution_count": 3,
   "metadata": {},
   "outputs": [],
   "source": [
    "def HashFun1(k):\n",
    "    #A = (math.sqrt(5)-1)/2\n",
    "        \n",
    "    #use Bash command to get the number of passwords in the file using \"wc -l password2.txt\" and they are 110000000\n",
    "    #m = 2*110000000 # we create 10X slots for the \n",
    "    #w = 2** 256 #\n",
    "    #A = 2654435769 / w \n",
    "    #return(math.floor(m*(k*A - int(k*A)))) # As stated in the book we use floor(m(kAmod1))\n",
    "    w = 4294967295 # 2^32\n",
    "    A = 2654435769\n",
    "    r0 = k * A\n",
    "    p = 32\n",
    "    return ( r0 & w ) >> ( 32 - p )"
   ]
  },
  {
   "cell_type": "code",
   "execution_count": 1,
   "metadata": {},
   "outputs": [],
   "source": [
    "passwords = open('passwords2.txt','r')\n",
    "#row = 1\n",
    "f = open('HashValue1.txt','w+')\n",
    "#Recommend to use the if condition in the for loop for testing\n",
    "for p in passwords:\n",
    "    #if(row==10): #100000000 we generated a data for this row\n",
    "     #   break\n",
    "    list = [ord(char) for char in p.strip()]\n",
    "    #print(\"Key------: \" + p.strip() + \"  LargeNumber-----: \" + str(Convert_to_LargeNumber(list)) + \" HashValue--: \" + str(HashFun(Convert_to_LargeNumber(list))))\n",
    "    \n",
    "    #If We want to only store the hash value into a file we remove the p.stripe() and str(Convert_to_LargeNumber(list))\n",
    "    #f.write(p.strip()+\" \"+str(Convert_to_LargeNumber(list))+\" \"+str(HashFun(Convert_to_LargeNumber(list)))+\"\\n\")\n",
    "    #hashvalue.append(HashFun(Convert_to_LargeNumber(list)))\n",
    "    #row+=1\n",
    "    f.write(str(HashFun1(Convert_to_LargeNumber1(list)))+\"\\n\")\n",
    "\n",
    "passwords.close()\n",
    "f.close()"
   ]
  },
  {
   "cell_type": "markdown",
   "metadata": {},
   "source": [
    "# Read the HashValue using pyspark"
   ]
  },
  {
   "cell_type": "code",
   "execution_count": 2,
   "metadata": {},
   "outputs": [],
   "source": [
    "HashValue1 = sc.textFile('HashValue1.txt') "
   ]
  },
  {
   "cell_type": "markdown",
   "metadata": {},
   "source": [
    "We use the Hash value as a word, and we count the number of occurences of each Hash Value"
   ]
  },
  {
   "cell_type": "code",
   "execution_count": 3,
   "metadata": {},
   "outputs": [],
   "source": [
    "OccurenceCount1 = HashValue1.flatMap(lambda line: line.split(\",\")).map(lambda word: (word, 1)) \\\n",
    "             .reduceByKey(lambda a, b: a + b)"
   ]
  },
  {
   "cell_type": "markdown",
   "metadata": {},
   "source": [
    "To identify the duplicates we filter the hash values that are counted to be more than 1."
   ]
  },
  {
   "cell_type": "code",
   "execution_count": 4,
   "metadata": {},
   "outputs": [],
   "source": [
    "Duplicates1 = OccurenceCount1.filter(lambda x: x[1]>1).count()"
   ]
  },
  {
   "cell_type": "code",
   "execution_count": 5,
   "metadata": {},
   "outputs": [
    {
     "data": {
      "text/plain": [
       "10916162"
      ]
     },
     "execution_count": 5,
     "metadata": {},
     "output_type": "execute_result"
    }
   ],
   "source": [
    "Duplicates1"
   ]
  },
  {
   "cell_type": "markdown",
   "metadata": {},
   "source": [
    "## \"AABA\" != \"AAAB\""
   ]
  },
  {
   "cell_type": "code",
   "execution_count": 4,
   "metadata": {},
   "outputs": [],
   "source": [
    "def Convert_to_LargeNumber2(ascii):\n",
    "        R = 265\n",
    "        a = []\n",
    "        for  e in ascii:\n",
    "                a.append(e)\n",
    "        return (''.join(map(str,a))) # The two strings are indentical if their ascii are the same sequencially if not they are different"
   ]
  },
  {
   "cell_type": "code",
   "execution_count": 5,
   "metadata": {},
   "outputs": [],
   "source": [
    "def HashFun2(k):\n",
    "     #A = (math.sqrt(5)-1)/2\n",
    "        \n",
    "    w = 4294967295 # 4294967296 # 2^32\n",
    "    A = 2654435769\n",
    "    r0 = k * A\n",
    "    p = 32\n",
    "    return ( r0 & w ) >> ( 32 - p ) # As stated in the book we use floor(m(kAmod1))"
   ]
  },
  {
   "cell_type": "code",
   "execution_count": 7,
   "metadata": {},
   "outputs": [],
   "source": [
    "passwords = open('passwords2.txt','r')\n",
    "#row = 1\n",
    "f = open('HashValue2.txt','w+')\n",
    "f2 = open('HashValue7.txt','w+')\n",
    "#Recommend to use the if condition in the for loop for testing\n",
    "for p in passwords:\n",
    "    #if(row==10): #100000000 we generated a data for this row\n",
    "     #   break\n",
    "    list = [ord(char) for char in p.strip()]\n",
    "    #print(\"Key------: \" + p.strip() + \"  HashValue-----: \" + str(HashFun(int(Convert_to_LargeNumber(list)))))#str(Convert_to_LargeNumber(list)))# + \" HashValue--: \" + str(HashFun(Convert_to_LargeNumber(list))))\n",
    "    #If We want to only store the hash value into a file we remove the p.stripe() and str(Convert_to_LargeNumber(list))\n",
    "    #f.write(p.strip()+\" \"+str(Convert_to_LargeNumber(list))+\" \"+str(HashFun(Convert_to_LargeNumber(list)))+\"\\n\")\n",
    "    #hashvalue.append(HashFun(Convert_to_LargeNumber(list)))\n",
    "    #row+=1\n",
    "    f.write(str(HashFun2(int(Convert_to_LargeNumber2(list))))+\"\\n\")\n",
    "    f2.write(p.strip() +\"\\n\")\n",
    "\n",
    "passwords.close()\n",
    "f.close()\n",
    "f2.close()"
   ]
  },
  {
   "cell_type": "markdown",
   "metadata": {},
   "source": [
    "# We repeat the above code to identify the duplicates"
   ]
  },
  {
   "cell_type": "markdown",
   "metadata": {},
   "source": [
    "Since now we don't have the nuber of true duplicates, we compute them, just looking for the number of equal passwords"
   ]
  },
  {
   "cell_type": "code",
   "execution_count": 5,
   "metadata": {},
   "outputs": [],
   "source": [
    "password2 = sc.textFile('passwords2.txt')"
   ]
  },
  {
   "cell_type": "code",
   "execution_count": 6,
   "metadata": {},
   "outputs": [],
   "source": [
    "occurrence_passwords = password2.flatMap(lambda line: line.split(\",\")).map(lambda word: (word, 1)) \\\n",
    "             .reduceByKey(lambda a, b: a + b)"
   ]
  },
  {
   "cell_type": "code",
   "execution_count": 7,
   "metadata": {
    "scrolled": true
   },
   "outputs": [],
   "source": [
    "Duplicates_passwords = occurrence_passwords.filter(lambda x: x[1]>1).count() #true duplicates"
   ]
  },
  {
   "cell_type": "code",
   "execution_count": 8,
   "metadata": {},
   "outputs": [
    {
     "data": {
      "text/plain": [
       "6304247"
      ]
     },
     "execution_count": 8,
     "metadata": {},
     "output_type": "execute_result"
    }
   ],
   "source": [
    "Duplicates_passwords"
   ]
  },
  {
   "cell_type": "markdown",
   "metadata": {},
   "source": [
    "And now let's compute the number of duplicates using the hash values"
   ]
  },
  {
   "cell_type": "code",
   "execution_count": 6,
   "metadata": {},
   "outputs": [],
   "source": [
    "HashValue2 = sc.textFile('HashValue2.txt')"
   ]
  },
  {
   "cell_type": "code",
   "execution_count": 7,
   "metadata": {},
   "outputs": [],
   "source": [
    "OccurenceCount2 = HashValue2.flatMap(lambda line: line.split(\",\")).map(lambda word: (word, 1)) \\\n",
    "             .reduceByKey(lambda a, b: a + b)"
   ]
  },
  {
   "cell_type": "code",
   "execution_count": 8,
   "metadata": {},
   "outputs": [],
   "source": [
    "Duplicates2 = OccurenceCount2.filter(lambda x: x[1]>1).count()"
   ]
  },
  {
   "cell_type": "code",
   "execution_count": 9,
   "metadata": {},
   "outputs": [
    {
     "data": {
      "text/plain": [
       "6144841"
      ]
     },
     "execution_count": 9,
     "metadata": {},
     "output_type": "execute_result"
    }
   ],
   "source": [
    "Duplicates2"
   ]
  },
  {
   "cell_type": "markdown",
   "metadata": {},
   "source": [
    "So we can compute the number of duplicates:"
   ]
  },
  {
   "cell_type": "code",
   "execution_count": 10,
   "metadata": {},
   "outputs": [
    {
     "data": {
      "text/plain": [
       "159406"
      ]
     },
     "execution_count": 10,
     "metadata": {},
     "output_type": "execute_result"
    }
   ],
   "source": [
    "Duplicates_passwords-Duplicates2"
   ]
  }
 ],
 "metadata": {
  "kernelspec": {
   "display_name": "Python 3",
   "language": "python",
   "name": "python3"
  },
  "language_info": {
   "codemirror_mode": {
    "name": "ipython",
    "version": 3
   },
   "file_extension": ".py",
   "mimetype": "text/x-python",
   "name": "python",
   "nbconvert_exporter": "python",
   "pygments_lexer": "ipython3",
   "version": "3.7.0"
  }
 },
 "nbformat": 4,
 "nbformat_minor": 2
}
